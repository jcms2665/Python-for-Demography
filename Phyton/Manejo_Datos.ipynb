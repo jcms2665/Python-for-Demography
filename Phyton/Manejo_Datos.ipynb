{
  "nbformat": 4,
  "nbformat_minor": 0,
  "metadata": {
    "colab": {
      "name": "Manejo-Datos.ipynb",
      "provenance": [],
      "collapsed_sections": [],
      "authorship_tag": "ABX9TyPsObcaocojdoNqQTSuXAdm",
      "include_colab_link": true
    },
    "kernelspec": {
      "name": "python3",
      "display_name": "Python 3"
    },
    "language_info": {
      "name": "python"
    }
  },
  "cells": [
    {
      "cell_type": "markdown",
      "metadata": {
        "id": "view-in-github",
        "colab_type": "text"
      },
      "source": [
        "<a href=\"https://colab.research.google.com/github/jcms2665/Tools-for-Demography/blob/main/Phyton/Manejo_Datos.ipynb\" target=\"_parent\"><img src=\"https://colab.research.google.com/assets/colab-badge.svg\" alt=\"Open In Colab\"/></a>"
      ]
    },
    {
      "cell_type": "markdown",
      "metadata": {
        "id": "MxEMdooPc6rM"
      },
      "source": [
        "#**TOOLS FOR DEMOGRAPHY**\n"
      ]
    },
    {
      "cell_type": "markdown",
      "metadata": {
        "id": "kvKyTk6KfII3"
      },
      "source": [
        "## Token y Drive"
      ]
    },
    {
      "cell_type": "code",
      "metadata": {
        "id": "iMoZMEV9eH8n"
      },
      "source": [
        "# Token para GEE\n",
        "\n",
        "import ee\n",
        "from google.colab import auth\n",
        "auth.authenticate_user()\n",
        "ee.Authenticate()\n",
        "ee.Initialize()"
      ],
      "execution_count": null,
      "outputs": []
    },
    {
      "cell_type": "code",
      "metadata": {
        "colab": {
          "base_uri": "https://localhost:8080/"
        },
        "id": "HGixfXH8e1BM",
        "outputId": "4fd67ac7-a668-4391-debb-921f0d2bdfb6"
      },
      "source": [
        "# Vincular con Drive\n",
        "\n",
        "from google.colab import drive\n",
        "drive.mount('/content/drive')"
      ],
      "execution_count": 32,
      "outputs": [
        {
          "output_type": "stream",
          "text": [
            "Drive already mounted at /content/drive; to attempt to forcibly remount, call drive.mount(\"/content/drive\", force_remount=True).\n"
          ],
          "name": "stdout"
        }
      ]
    },
    {
      "cell_type": "markdown",
      "metadata": {
        "id": "7-66dGYYfVC8"
      },
      "source": [
        " ## Manejo de Bases de Datos\n",
        "---\n"
      ]
    },
    {
      "cell_type": "code",
      "metadata": {
        "id": "0o0c0zY0d9CL",
        "colab": {
          "base_uri": "https://localhost:8080/"
        },
        "outputId": "10072187-5fb1-4632-f5e9-94859c537a96"
      },
      "source": [
        "# Instalación de paquetes\n",
        "\n",
        "!pip install pyreadstat\n",
        "!pip install simpledbf"
      ],
      "execution_count": 33,
      "outputs": [
        {
          "output_type": "stream",
          "text": [
            "Requirement already satisfied: pyreadstat in /usr/local/lib/python3.7/dist-packages (1.1.2)\n",
            "Requirement already satisfied: pandas>0.24.0 in /usr/local/lib/python3.7/dist-packages (from pyreadstat) (1.1.5)\n",
            "Requirement already satisfied: python-dateutil>=2.7.3 in /usr/local/lib/python3.7/dist-packages (from pandas>0.24.0->pyreadstat) (2.8.1)\n",
            "Requirement already satisfied: numpy>=1.15.4 in /usr/local/lib/python3.7/dist-packages (from pandas>0.24.0->pyreadstat) (1.19.5)\n",
            "Requirement already satisfied: pytz>=2017.2 in /usr/local/lib/python3.7/dist-packages (from pandas>0.24.0->pyreadstat) (2018.9)\n",
            "Requirement already satisfied: six>=1.5 in /usr/local/lib/python3.7/dist-packages (from python-dateutil>=2.7.3->pandas>0.24.0->pyreadstat) (1.15.0)\n",
            "Requirement already satisfied: simpledbf in /usr/local/lib/python3.7/dist-packages (0.2.6)\n"
          ],
          "name": "stdout"
        }
      ]
    },
    {
      "cell_type": "code",
      "metadata": {
        "id": "72L68W34cxRu",
        "colab": {
          "base_uri": "https://localhost:8080/",
          "height": 35
        },
        "outputId": "47d43831-6b5e-46f7-e309-d518fbbde8e2"
      },
      "source": [
        "# Cargar paquetes\n",
        "\n",
        "import os                                 # Directorios\n",
        "import csv\n",
        "import matplotlib.pyplot as plt\n",
        "import numpy as np                        # Data frame\n",
        "import pandas as pd\n",
        "import pyreadstat\n",
        "\n",
        "os.getcwd()"
      ],
      "execution_count": 34,
      "outputs": [
        {
          "output_type": "execute_result",
          "data": {
            "application/vnd.google.colaboratory.intrinsic+json": {
              "type": "string"
            },
            "text/plain": [
              "'/content'"
            ]
          },
          "metadata": {
            "tags": []
          },
          "execution_count": 34
        }
      ]
    },
    {
      "cell_type": "code",
      "metadata": {
        "colab": {
          "base_uri": "https://localhost:8080/"
        },
        "id": "gJbWo-jBgSk6",
        "outputId": "cf747c02-200c-4313-d721-2fc28a2d7136"
      },
      "source": [
        "a=\"/content/drive/MyDrive/28 Bases/TMODULO.csv\"\n",
        "inegi=pd.read_csv(a)\n",
        "print ('Datos importados:',len(inegi))\n"
      ],
      "execution_count": 35,
      "outputs": [
        {
          "output_type": "stream",
          "text": [
            "Datos importados: 71404\n"
          ],
          "name": "stdout"
        }
      ]
    },
    {
      "cell_type": "code",
      "metadata": {
        "colab": {
          "base_uri": "https://localhost:8080/",
          "height": 142
        },
        "id": "RjmhY9PjiWAy",
        "outputId": "4d8b9398-10ad-46e4-8708-4367a9dfe0b7"
      },
      "source": [
        "pd.crosstab(inegi.SEXO, inegi.P6_20, inegi.FAC_PER, aggfunc = sum)"
      ],
      "execution_count": 36,
      "outputs": [
        {
          "output_type": "execute_result",
          "data": {
            "text/html": [
              "<div>\n",
              "<style scoped>\n",
              "    .dataframe tbody tr th:only-of-type {\n",
              "        vertical-align: middle;\n",
              "    }\n",
              "\n",
              "    .dataframe tbody tr th {\n",
              "        vertical-align: top;\n",
              "    }\n",
              "\n",
              "    .dataframe thead th {\n",
              "        text-align: right;\n",
              "    }\n",
              "</style>\n",
              "<table border=\"1\" class=\"dataframe\">\n",
              "  <thead>\n",
              "    <tr style=\"text-align: right;\">\n",
              "      <th>P6_20</th>\n",
              "      <th>1</th>\n",
              "      <th>2</th>\n",
              "    </tr>\n",
              "    <tr>\n",
              "      <th>SEXO</th>\n",
              "      <th></th>\n",
              "      <th></th>\n",
              "    </tr>\n",
              "  </thead>\n",
              "  <tbody>\n",
              "    <tr>\n",
              "      <th>1</th>\n",
              "      <td>12226863</td>\n",
              "      <td>35661169</td>\n",
              "    </tr>\n",
              "    <tr>\n",
              "      <th>2</th>\n",
              "      <td>10942613</td>\n",
              "      <td>42314527</td>\n",
              "    </tr>\n",
              "  </tbody>\n",
              "</table>\n",
              "</div>"
            ],
            "text/plain": [
              "P6_20         1         2\n",
              "SEXO                     \n",
              "1      12226863  35661169\n",
              "2      10942613  42314527"
            ]
          },
          "metadata": {
            "tags": []
          },
          "execution_count": 36
        }
      ]
    },
    {
      "cell_type": "code",
      "metadata": {
        "colab": {
          "base_uri": "https://localhost:8080/"
        },
        "id": "DN6TdBf5nqHE",
        "outputId": "139785e5-8189-43d8-d4fa-a66e1326546a"
      },
      "source": [
        "inegi.SEXO"
      ],
      "execution_count": 37,
      "outputs": [
        {
          "output_type": "execute_result",
          "data": {
            "text/plain": [
              "0        2\n",
              "1        2\n",
              "2        1\n",
              "3        1\n",
              "4        2\n",
              "        ..\n",
              "71399    2\n",
              "71400    1\n",
              "71401    2\n",
              "71402    1\n",
              "71403    2\n",
              "Name: SEXO, Length: 71404, dtype: int64"
            ]
          },
          "metadata": {
            "tags": []
          },
          "execution_count": 37
        }
      ]
    },
    {
      "cell_type": "code",
      "metadata": {
        "id": "HNtLtfsDnwtA"
      },
      "source": [
        ""
      ],
      "execution_count": null,
      "outputs": []
    },
    {
      "cell_type": "code",
      "metadata": {
        "id": "U1dKOF8gnuAd"
      },
      "source": [
        ""
      ],
      "execution_count": null,
      "outputs": []
    }
  ]
}