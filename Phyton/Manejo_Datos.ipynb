{
  "nbformat": 4,
  "nbformat_minor": 0,
  "metadata": {
    "colab": {
      "name": "Manejo-Datos.ipynb",
      "provenance": [],
      "authorship_tag": "ABX9TyPiQ7FhPY+2P3JSnE/Do06/",
      "include_colab_link": true
    },
    "kernelspec": {
      "name": "python3",
      "display_name": "Python 3"
    },
    "language_info": {
      "name": "python"
    }
  },
  "cells": [
    {
      "cell_type": "markdown",
      "metadata": {
        "id": "view-in-github",
        "colab_type": "text"
      },
      "source": [
        "<a href=\"https://colab.research.google.com/github/jcms2665/Tools-for-Demography/blob/main/Phyton/Manejo_Datos.ipynb\" target=\"_parent\"><img src=\"https://colab.research.google.com/assets/colab-badge.svg\" alt=\"Open In Colab\"/></a>"
      ]
    },
    {
      "cell_type": "markdown",
      "metadata": {
        "id": "MxEMdooPc6rM"
      },
      "source": [
        "#**TOOLS FOR DEMOGRAPHY**\n"
      ]
    },
    {
      "cell_type": "markdown",
      "metadata": {
        "id": "kvKyTk6KfII3"
      },
      "source": [
        "## Token y Drive"
      ]
    },
    {
      "cell_type": "code",
      "metadata": {
        "id": "iMoZMEV9eH8n"
      },
      "source": [
        "# Token para GEE\n",
        "\n",
        "import ee\n",
        "from google.colab import auth\n",
        "auth.authenticate_user()\n",
        "ee.Authenticate()\n",
        "ee.Initialize()"
      ],
      "execution_count": null,
      "outputs": []
    },
    {
      "cell_type": "code",
      "metadata": {
        "colab": {
          "base_uri": "https://localhost:8080/"
        },
        "id": "HGixfXH8e1BM",
        "outputId": "7ba323a2-6f8c-4209-ac7c-d2b6cc2b6329"
      },
      "source": [
        "# Vincular con Drive\n",
        "\n",
        "from google.colab import drive\n",
        "drive.mount('/content/drive')"
      ],
      "execution_count": 9,
      "outputs": [
        {
          "output_type": "stream",
          "text": [
            "Mounted at /content/drive\n"
          ],
          "name": "stdout"
        }
      ]
    },
    {
      "cell_type": "markdown",
      "metadata": {
        "id": "7-66dGYYfVC8"
      },
      "source": [
        " ## Manejo de Bases de Datos\n",
        "---\n"
      ]
    },
    {
      "cell_type": "code",
      "metadata": {
        "id": "0o0c0zY0d9CL"
      },
      "source": [
        "# Instalación de paquetes\n",
        "\n",
        "!pip install pyreadstat\n",
        "!pip install simpledbf"
      ],
      "execution_count": null,
      "outputs": []
    },
    {
      "cell_type": "code",
      "metadata": {
        "id": "72L68W34cxRu"
      },
      "source": [
        "# Cargar paquetes\n",
        "\n",
        "import os                                 # Directorios\n",
        "import csv\n",
        "import matplotlib.pyplot as plt\n",
        "import numpy as np                        # Data frame\n",
        "import pandas as pd\n",
        "import pyreadstat\n",
        "\n",
        "os.getcwd()"
      ],
      "execution_count": null,
      "outputs": []
    },
    {
      "cell_type": "code",
      "metadata": {
        "colab": {
          "base_uri": "https://localhost:8080/"
        },
        "id": "gJbWo-jBgSk6",
        "outputId": "44238791-11b9-4f4b-d24b-8bbbed6f8e25"
      },
      "source": [
        "a=\"/content/drive/MyDrive/28 Bases/TMODULO.csv\"\n",
        "inegi=pd.read_csv(a)\n",
        "print ('Datos importados:',len(inegi))\n"
      ],
      "execution_count": 22,
      "outputs": [
        {
          "output_type": "stream",
          "text": [
            "Datos importados: 71404\n"
          ],
          "name": "stdout"
        }
      ]
    },
    {
      "cell_type": "code",
      "metadata": {
        "colab": {
          "base_uri": "https://localhost:8080/",
          "height": 142
        },
        "id": "RjmhY9PjiWAy",
        "outputId": "ae13a7d4-c81d-4bc5-b8db-cba4f090c7d8"
      },
      "source": [
        "pd.crosstab(inegi.SEXO, inegi.P6_20, inegi.FAC_PER, aggfunc = sum)"
      ],
      "execution_count": 27,
      "outputs": [
        {
          "output_type": "execute_result",
          "data": {
            "text/html": [
              "<div>\n",
              "<style scoped>\n",
              "    .dataframe tbody tr th:only-of-type {\n",
              "        vertical-align: middle;\n",
              "    }\n",
              "\n",
              "    .dataframe tbody tr th {\n",
              "        vertical-align: top;\n",
              "    }\n",
              "\n",
              "    .dataframe thead th {\n",
              "        text-align: right;\n",
              "    }\n",
              "</style>\n",
              "<table border=\"1\" class=\"dataframe\">\n",
              "  <thead>\n",
              "    <tr style=\"text-align: right;\">\n",
              "      <th>P6_20</th>\n",
              "      <th>1</th>\n",
              "      <th>2</th>\n",
              "    </tr>\n",
              "    <tr>\n",
              "      <th>SEXO</th>\n",
              "      <th></th>\n",
              "      <th></th>\n",
              "    </tr>\n",
              "  </thead>\n",
              "  <tbody>\n",
              "    <tr>\n",
              "      <th>1</th>\n",
              "      <td>12226863</td>\n",
              "      <td>35661169</td>\n",
              "    </tr>\n",
              "    <tr>\n",
              "      <th>2</th>\n",
              "      <td>10942613</td>\n",
              "      <td>42314527</td>\n",
              "    </tr>\n",
              "  </tbody>\n",
              "</table>\n",
              "</div>"
            ],
            "text/plain": [
              "P6_20         1         2\n",
              "SEXO                     \n",
              "1      12226863  35661169\n",
              "2      10942613  42314527"
            ]
          },
          "metadata": {
            "tags": []
          },
          "execution_count": 27
        }
      ]
    }
  ]
}